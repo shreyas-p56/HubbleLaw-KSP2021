{
 "cells": [
  {
   "cell_type": "markdown",
   "id": "8792284b",
   "metadata": {},
   "source": [
    "<h1 align=\"center\">Hubble's Law</h1>\n",
    "<h2 align=\"center\">Krittika Summer Project</h2>\n",
    "<h4 align=\"center\">Shreyas Patil</h4>\n",
    "<h4 align=\"center\">200260052</h4>\n",
    "<h4 align=\"center\">Engineering Physics</h4>\n",
    "<h3 align=\"center\">Indian Institute of Technology Bombay</h3>"
   ]
  },
  {
   "cell_type": "markdown",
   "id": "df000686",
   "metadata": {},
   "source": [
    "### 1. Introduction\n",
    "It has been observed that the spectral lines in the spectra of galaxies in our universe appear to be at longer (or redder) wavelengths than what it would have been if the galaxy was at rest, which according to *Doppler Effect*, means that these galaxies are moving away from us. This phenomena of apparent increase in wavelength of spectral lines is called **Redshift**. The velocity of a galaxy and its distance from Earth are related by the equation $v=H_0d$. This relation is called **Hubbles's Law**. And interestingly, all the far away objects in our universe appear to be redshifted, which means that they must have been closer to each other in the past. This fact has been used as a piece of evidence to support the Big Bang model of our Universe.<br/><br/>\n",
    "For this project, the data of spectral lines (corresponding to Ca K and Ca H absorption lines, and H$\\alpha$ emission lines), and the angular sizes of the galaxies, has been obtained from [here](http://depts.washington.edu/astroed/HubbleLaw/galaxies.html)."
   ]
  },
  {
   "cell_type": "markdown",
   "id": "644440c4",
   "metadata": {},
   "source": [
    "### 2. Redshift and Velocity\n",
    "A galaxy's redshift is a measure of how its spectrum of light has been altered due to its motion away from us.\n",
    "The redshift (*Z*), of a spectral line is given by the equation:\n",
    "$$Z=\\dfrac{\\lambda_o-\\lambda_r}{\\lambda_r}$$\n",
    "where,\n",
    "- $\\lambda_o$= wavelength observed in spectrum of the galaxy<br/>\n",
    "- $\\lambda_r$= wavelength if the galaxy was at rest<br/>\n",
    "\n",
    "$\\lambda_r$ for calcium K, calcium H, and H$\\alpha$ spectral lines are 3933.7Å, 3968.5Å, and 6562.8Å respectively.\n",
    "\n",
    "The velocity (*v*) of each galaxy can then be calculated using the equation $v=Z\\cdot c$, where, *c* = speed of light\n",
    "\n",
    "The table below gives the values of the wavelengths of the spectral lines, corresponding redshifts, the average redshift, and the velocity with which the galaxy is moving away from us for each of the 8 galaxies. The wavelengths are all in Å, and the velocities in km/s.\n",
    "\n",
    "| Galaxy | Ca K - obs | Ca H - obs | H$\\alpha$ - obs | Redshift K | Redshift H | Redshift H$\\alpha$ | Avg. Reshift (Z) | Velocity |\n",
    "| :----- | :--------: | :--------: | :--------: | :--------: | :--------: | :--------: | :--------: | :-----: |\n",
    "| NGC 1357 | 3962.2 | 3997.8 | 6608.2 | 0.007245 | 0.007383 | 0.006918 | 0.007181 | 2154.601 |\n",
    "| NGC 1832 | 3960.6 | 3995.5 | 6607.5 | 0.006838 | 0.006804 | 0.006811 | 0.006818 | 2045.304 |\n",
    "| NGC 2276 | 3966.8 | 3997.0 | 6615.2 | 0.008414 | 0.007182 | 0.007984 | 0.007860 | 2358.042 |\n",
    "| NGC 2775 | 3954.4 | 3987.7 | 6592.0 | 0.005262 | 0.004838 | 0.004449 | 0.004850 | 1454.964 |\n",
    "| NGC 2903 | 3938.1 | 3972.2 | 6574.2 | 0.001119 | 0.000932 | 0.001737 | 0.001263 | 0378.795 |\n",
    "| NGC 3627 | 3942.8 | 3977.6 | 6578.0 | 0.002313 | 0.002293 | 0.002316 | 0.002307 | 692.249 |\n",
    "| NGC 3147 | 3968.4 | 4004.8 | 6621.4 | 0.008821 | 0.009147 | 0.008929 | 0.008966 | 2689.736 |\n",
    "| NGC 5248 | 3945.9 | 3983.1 | 6585.8 | 0.003101 | 0.003679 | 0.003505 | 0.003428 | 1028.498 |"
   ]
  },
  {
   "cell_type": "markdown",
   "id": "9879c686",
   "metadata": {},
   "source": [
    "### 3. Angular Size and Distance\n",
    "All the galaxies considered above are Barred Spiral Galaxies, also known as SB Galaxies. It is assumed that these galaxies are of almost the same size (as they're all of the same Hubble type). This is called the *standard ruler* assumption. The diameter of each of these galaxies is taken to be 22 kpc (as given in the problem statement). Further, the distance to a galaxy can be measured using the small angle approximation $d=s/\\theta$, where *'s'* is the diameter of the galaxy, and '$\\theta$' is the angular size of the galaxy.\n",
    "\n",
    "The table below contains the data of the measured angular size, and the distance to each of the 8 galaxies. The anglular sizes are in milliradians (mrad), and the distances are in megaparsecs (Mpc).\n",
    "\n",
    "| Galaxy | Anglular Size | Distance |\n",
    "|:-------|:----------:|:---------:|\n",
    "| NGC 1357 | 0.77 | 28.57 |\n",
    "| NGC 1832 | 0.74 | 29.73 |\n",
    "| NGC 2276 | 0.61 | 36.06 |\n",
    "| NGC 2775 | 0.94 | 23.40 |\n",
    "| NGC 2903 | 2.16 | 10.19 |\n",
    "| NGC 3627 | 1.92 | 11.46 |\n",
    "| NGC 3147 | 0.62 | 35.48 |\n",
    "| NGC 5248 | 1.21 | 18.18 |"
   ]
  },
  {
   "cell_type": "markdown",
   "id": "c6d68c88",
   "metadata": {},
   "source": [
    "### 4. Hubble's Constant\n",
    "Below is a plot of Velocity (*v*) vs Distance (*d*), of the 8 galaxies considered above. The units of velocity is km/s and that of distance is Mpc. An approximate straight line can be drawn through the plooted points. Since Hubble's Law states that $v=H_0\\cdot d$, the slope of the line is equal to the Hubble's Constant $H_0$."
   ]
  },
  {
   "cell_type": "code",
   "execution_count": 42,
   "id": "0e226483",
   "metadata": {},
   "outputs": [
    {
     "name": "stdout",
     "output_type": "stream",
     "text": [
      "The value of Hubble's Constant is 81.9 (km/s)/Mpc\n"
     ]
    },
    {
     "data": {
      "image/png": "[encoded data removed]",
      "text/plain": [
       "<Figure size 432x288 with 1 Axes>"
      ]
     },
     "metadata": {
      "needs_background": "light"
     },
     "output_type": "display_data"
    }
   ],
   "source": [
    "import matplotlib.pyplot as plt\n",
    "import numpy as np\n",
    "\n",
    "#d-values\n",
    "d = [28.57, 29.73, 36.06, 23.40, 10.19, 11.46, 35.48, 18.18]\n",
    "\n",
    "#v-values\n",
    "v = [2154.601, 2045.304, 2358.042, 1454.964, 378.795, 692.249, 2689.736, 1028.498]\n",
    "\n",
    "#plotting plot as scatter plot\n",
    "plt.scatter(d, v, color=\"blue\", marker=\"^\", s=25)\n",
    "\n",
    "#x-axis label\n",
    "plt.xlabel('Distance in Mpc')\n",
    "#y-axis label\n",
    "plt.ylabel('Velocity in km/s')\n",
    "\n",
    "#plotting best fit straight line through the data points\n",
    "#m is the slope, b is the intercept\n",
    "m, b = np.polyfit(d, v, 1)\n",
    "plt.plot(d, m*np.array(d) + b, color=\"red\")\n",
    "\n",
    "#gradient of the line gives the value of Hubble's Constant\n",
    "H=\"{:.1f}\".format(m)\n",
    "print(f\"The value of Hubble's Constant is {H} (km/s)/Mpc\")\n",
    "\n",
    "plt.show()"
   ]
  },
  {
   "cell_type": "markdown",
   "id": "25c67d0c",
   "metadata": {},
   "source": [
    "### 5. Conclusion\n",
    "From the above data and plot, the value of Hubble's Constant obtained is $H_0=81.9$.\n",
    "Hubble's Law tells us that the Universe is expanding. If we assume that it has always been expanding, then it should have been much smaller earlier. If we make the assumption that all the galaxies were almost adjacent to each other at the beginning of the Universe, and they have been receding from each other at a constant velocity, the simple estimation of the age of the Universe can be done.\n",
    "Let the distance between two galaxies be *d*, and the apparent velocity with which they are separating be *v*. With the assumption mentioned above, let the time taken for the galaxies to reach their current positions be *t*. Then *t* is also the Age of the Universe, and,\n",
    "$$v=\\dfrac{d}{t}$$\n",
    "We know from Hubble's Law that\n",
    "$$v=H_0d$$\n",
    "Using these two equations, we get $t=1/H_0$, which gives $t\\approx12.2$ billion years.\n",
    "\n",
    "Thus, we have obtained the Age of the Universe to be 12.2 Billion Years. We sure did ignore the possiblility of accelerated expansion in our calculations, but nevertheless, the method gives a pretty good approximation."
   ]
  }
 ],
 "metadata": {
  "kernelspec": {
   "display_name": "Python 3",
   "language": "python",
   "name": "python3"
  },
  "language_info": {
   "codemirror_mode": {
    "name": "ipython",
    "version": 3
   },
   "file_extension": ".py",
   "mimetype": "text/x-python",
   "name": "python",
   "nbconvert_exporter": "python",
   "pygments_lexer": "ipython3",
   "version": "3.8.8"
  }
 },
 "nbformat": 4,
 "nbformat_minor": 5
}
